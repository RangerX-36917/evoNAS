{
 "cells": [
  {
   "cell_type": "markdown",
   "metadata": {
    "colab_type": "text",
    "id": "view-in-github"
   },
   "source": [
    "<a href=\"https://colab.research.google.com/github/RangerX-36917/evoNAS/blob/master/regularized_evolution_algorithm.ipynb\" target=\"_parent\"><img src=\"https://colab.research.google.com/assets/colab-badge.svg\" alt=\"Open In Colab\"/></a>"
   ]
  },
  {
   "cell_type": "markdown",
   "metadata": {
    "colab_type": "text",
    "id": "46lPbgGTF2He"
   },
   "source": [
    "Copyright 2018 Google LLC\n",
    "\n",
    "Licensed under the Apache License, Version 2.0 (the \"License\");\n",
    "you may not use this file except in compliance with the License.\n",
    "You may obtain a copy of the License at\n",
    "\n",
    "    https://www.apache.org/licenses/LICENSE-2.0\n",
    "\n",
    "Unless required by applicable law or agreed to in writing, software\n",
    "distributed under the License is distributed on an \"AS IS\" BASIS,\n",
    "WITHOUT WARRANTIES OR CONDITIONS OF ANY KIND, either express or implied.\n",
    "See the License for the specific language governing permissions and\n",
    "limitations under the License."
   ]
  },
  {
   "cell_type": "markdown",
   "metadata": {
    "colab_type": "text",
    "id": "K_6EyDK_B3fI"
   },
   "source": [
    "# Summary"
   ]
  },
  {
   "cell_type": "markdown",
   "metadata": {
    "colab_type": "text",
    "id": "eizp75WbBwaB"
   },
   "source": [
    "This document contains the code of the regularized evolution (i.e. aging evolution) algorithm used in:\n",
    "\n",
    "[E. Real, A. Aggarwal, Y. Huang, and Q. V. Le 2018. Regularized Evolution for Image Classifier Architecture Search](https://arxiv.org/abs/1802.01548).\n",
    "\n",
    "It demonstrates the application of the algorithm in a toy search space that can be run quickly in a single machine."
   ]
  },
  {
   "cell_type": "markdown",
   "metadata": {
    "colab_type": "text",
    "id": "VUdox1uMAMqF"
   },
   "source": [
    "# Toy Search Space"
   ]
  },
  {
   "cell_type": "markdown",
   "metadata": {
    "colab_type": "text",
    "id": "YtacawXFAQbg"
   },
   "source": [
    "For a simple problem to use for illustration purposes, we use the toy search space of appendix C. In it, toy models have a simulated architecture (bit-string) and a simulated accuracy (the number of 1s in the bit-string, with some additional random noise), as described below."
   ]
  },
  {
   "cell_type": "code",
<<<<<<< HEAD
   "execution_count": 17,
=======
   "execution_count": 6,
>>>>>>> cd5322911244ad452f7320e1358356f07d9d8674
   "metadata": {
    "colab": {},
    "colab_type": "code",
    "id": "d0uYu1WisqLa"
   },
   "outputs": [],
   "source": [
    "DIM = 100  # Number of bits in the bit strings (i.e. the \"models\").\n",
    "NOISE_STDEV = 0.01  # Standard deviation of the simulated training noise.\n",
    "\n",
    "class Model(object):\n",
    "  \"\"\"A class representing a model.\n",
    "  \n",
    "  It holds two attributes: `arch` (the simulated architecture) and `accuracy`\n",
    "  (the simulated accuracy / fitness). See Appendix C for an introduction to\n",
    "  this toy problem.\n",
    "  \n",
    "  In the real case of neural networks, `arch` would instead hold the\n",
    "  architecture of the normal and reduction cells of a neural network and\n",
    "  accuracy would be instead the result of training the neural net and\n",
    "  evaluating it on the validation set.\n",
    "  \n",
    "  We do not include test accuracies here as they are not used by the algorithm\n",
    "  in any way. In the case of real neural networks, the test accuracy is only\n",
    "  used for the purpose of reporting / plotting final results.\n",
    "\n",
    "  In the context of evolutionary algorithms, a model is often referred to as\n",
    "  an \"individual\".\n",
    "\n",
    "  Attributes:\n",
    "    arch: the architecture as an int representing a bit-string of length `DIM`.\n",
    "        As a result, the integers are required to be less than `2**DIM`. They\n",
    "        can be visualized as strings of 0s and 1s by calling `print(model)`,\n",
    "        where `model` is an instance of this class.\n",
    "    accuracy:  the simulated validation accuracy. This is the sum of the\n",
    "        bits in the bit-string, divided by DIM to produce a value in the\n",
    "        interval [0.0, 1.0]. After that, a small amount of Gaussian noise is\n",
    "        added with mean 0.0 and standard deviation `NOISE_STDEV`. The resulting\n",
    "        number is clipped to within [0.0, 1.0] to produce the final validation\n",
    "        accuracy of the model. A given model will have a fixed validation\n",
    "        accuracy but two models that have the same architecture will generally\n",
    "        have different validation accuracies due to this noise. In the context\n",
    "        of evolutionary algorithms, this is often known as the \"fitness\".\n",
    "  \"\"\"\n",
    "  def __init__(self):\n",
    "    self.arch = None\n",
    "    self.accuracy = None\n",
    "    \n",
    "  def __str__(self):\n",
    "    \"\"\"Prints a readable version of this bitstring.\"\"\"\n",
    "    return '{0:b}'.format(self.arch)\n",
    "  \n",
    "def train_and_eval(arch):\n",
    "  \"\"\"Simulates training and evaluation.\n",
    "  \n",
    "  Computes the simulated validation accuracy of the given architecture. See\n",
    "  the `accuracy` attribute in `Model` class for details.\n",
    "  \n",
    "  Args:\n",
    "    arch: the architecture as an int representing a bit-string.\n",
    "  \"\"\"\n",
    "  accuracy =  float(_sum_bits(arch)) / float(DIM)\n",
    "  accuracy += random.gauss(mu=0.0, sigma=NOISE_STDEV)\n",
    "  accuracy = 0.0 if accuracy < 0.0 else accuracy\n",
    "  accuracy = 1.0 if accuracy > 1.0 else accuracy\n",
    "  return accuracy\n",
    "\n",
    "def _sum_bits(arch):\n",
    "  \"\"\"Returns the number of 1s in the bit string.\n",
    "  \n",
    "  Args:\n",
    "    arch: an int representing the bit string.\n",
    "  \"\"\"\n",
    "  total = 0\n",
    "  for _ in range(DIM):\n",
    "    total += arch & 1\n",
    "    arch = (arch >> 1)\n",
    "  return total"
   ]
  },
  {
   "cell_type": "markdown",
   "metadata": {
    "colab_type": "text",
    "id": "f3SA6aWmArnW"
   },
   "source": [
    "# Search Space Traversal"
   ]
  },
  {
   "cell_type": "markdown",
   "metadata": {
    "colab_type": "text",
    "id": "jkNYKtGtAzUs"
   },
   "source": [
    "Below we define a function to generate random architectures in the basic search space and a function to mutate architectures within the search space."
   ]
  },
  {
   "cell_type": "code",
<<<<<<< HEAD
   "execution_count": 18,
=======
   "execution_count": 7,
>>>>>>> cd5322911244ad452f7320e1358356f07d9d8674
   "metadata": {
    "colab": {},
    "colab_type": "code",
    "id": "FXACEXwy201a"
   },
   "outputs": [],
   "source": [
    "import random\n",
    "\n",
    "def random_architecture():\n",
    "  \"\"\"Returns a random architecture (bit-string) represented as an int.\"\"\"\n",
    "  return random.randint(0, 2**DIM - 1)\n",
    "\n",
    "def mutate_arch(parent_arch):\n",
    "  \"\"\"Computes the architecture for a child of the given parent architecture.\n",
    "\n",
    "  The parent architecture is cloned and mutated to produce the child\n",
    "  architecture. The child architecture is mutated by flipping a randomly chosen\n",
    "  bit in its bit-string.\n",
    "\n",
    "  Args:\n",
    "    parent_arch: an int representing the architecture (bit-string) of the\n",
    "        parent.\n",
    "\n",
    "  Returns:\n",
    "    An int representing the architecture (bit-string) of the child.\n",
    "  \"\"\"\n",
    "  position = random.randint(0, DIM - 1)  # Index of the bit to flip.\n",
    "  \n",
    "  # Flip the bit at position `position` in `child_arch`.\n",
    "  child_arch = parent_arch ^ (1 << position)\n",
    "  \n",
    "  return child_arch"
   ]
  },
  {
   "cell_type": "markdown",
   "metadata": {
    "colab_type": "text",
    "id": "T2ciQCkqBSDe"
   },
   "source": [
    "# Regularized Evolution Algorithm"
   ]
  },
  {
   "cell_type": "markdown",
   "metadata": {
    "colab_type": "text",
    "id": "aHxYBucT-x5R"
   },
   "source": [
    "The regularized evolution (i.e. aging evolution) algorithm can be written as:"
   ]
  },
  {
   "cell_type": "code",
<<<<<<< HEAD
   "execution_count": 19,
=======
   "execution_count": 8,
>>>>>>> cd5322911244ad452f7320e1358356f07d9d8674
   "metadata": {
    "colab": {},
    "colab_type": "code",
    "id": "6dr709ay2ahZ"
   },
   "outputs": [],
   "source": [
    "import collections\n",
    "import random\n",
    "\n",
    "def regularized_evolution(cycles, population_size, sample_size):\n",
    "  \"\"\"Algorithm for regularized evolution (i.e. aging evolution).\n",
    "  \n",
    "  Follows \"Algorithm 1\" in Real et al. \"Regularized Evolution for Image\n",
    "  Classifier Architecture Search\".\n",
    "  \n",
    "  Args:\n",
    "    cycles: the number of cycles the algorithm should run for.\n",
    "    population_size: the number of individuals to keep in the population.\n",
    "    sample_size: the number of individuals that should participate in each\n",
    "        tournament.\n",
    "\n",
    "  Returns:\n",
    "    history: a list of `Model` instances, representing all the models computed\n",
    "        during the evolution experiment.\n",
    "  \"\"\"\n",
    "  population = collections.deque()\n",
    "  history = []  # Not used by the algorithm, only used to report results.\n",
    "\n",
    "  # Initialize the population with random models.\n",
    "  while len(population) < population_size:\n",
    "    model = Model()\n",
    "    model.arch = random_architecture()\n",
    "    model.accuracy = train_and_eval(model.arch)\n",
    "    population.append(model)\n",
    "    history.append(model)\n",
    "\n",
    "  # Carry out evolution in cycles. Each cycle produces a model and removes\n",
    "  # another.\n",
    "  while len(history) < cycles:\n",
    "    # Sample randomly chosen models from the current population.\n",
    "    sample = []\n",
    "    while len(sample) < sample_size:\n",
    "      # Inefficient, but written this way for clarity. In the case of neural\n",
    "      # nets, the efficiency of this line is irrelevant because training neural\n",
    "      # nets is the rate-determining step.\n",
    "      candidate = random.choice(list(population))\n",
    "      sample.append(candidate)\n",
    "\n",
    "    # The parent is the best model in the sample.\n",
    "    parent = max(sample, key=lambda i: i.accuracy)\n",
    "\n",
    "    # Create the child model and store it.\n",
    "    child = Model()\n",
    "    child.arch = mutate_arch(parent.arch)\n",
    "    child.accuracy = train_and_eval(child.arch)\n",
    "    population.append(child)\n",
    "    history.append(child)\n",
    "\n",
    "    # Remove the oldest model.\n",
    "    population.popleft()\n",
    "\n",
    "  return history"
   ]
  },
  {
   "cell_type": "markdown",
   "metadata": {
    "colab_type": "text",
    "id": "0ptMGABxBV61"
   },
   "source": [
    "# Example Run on the Toy Search Space"
   ]
  },
  {
   "cell_type": "markdown",
   "metadata": {
    "colab_type": "text",
    "id": "ykQshJgS-1W1"
   },
   "source": [
    "We run the algorithm for 1000 samples, setting the population size and sample size parameters to reasonable values."
   ]
  },
  {
   "cell_type": "code",
<<<<<<< HEAD
   "execution_count": 20,
=======
   "execution_count": 14,
>>>>>>> cd5322911244ad452f7320e1358356f07d9d8674
   "metadata": {
    "colab": {},
    "colab_type": "code",
    "id": "1izV1iKqFSgS"
   },
   "outputs": [],
   "source": [
    "history = regularized_evolution(\n",
    "    cycles=1000, population_size=100, sample_size=10)"
   ]
  },
  {
   "cell_type": "markdown",
   "metadata": {
    "colab_type": "text",
    "id": "5YUKkL0_-UMH"
   },
   "source": [
    "We plot the progress of the experiment, showing how the accuracy improved gradually:"
   ]
  },
  {
   "cell_type": "code",
<<<<<<< HEAD
   "execution_count": 27,
=======
   "execution_count": 15,
>>>>>>> cd5322911244ad452f7320e1358356f07d9d8674
   "metadata": {
    "colab": {
     "base_uri": "https://localhost:8080/",
     "height": 445
    },
    "colab_type": "code",
    "id": "ZXKj2rddziLV",
    "outputId": "3ea1d3a6-134d-433a-d6a9-178d8f9f7d88",
    "scrolled": true
   },
   "outputs": [
    {
     "data": {
<<<<<<< HEAD
      "image/png": "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\n",
=======
      "image/png": "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\n",
>>>>>>> cd5322911244ad452f7320e1358356f07d9d8674
      "text/plain": [
       "<Figure size 576x432 with 1 Axes>"
      ]
     },
     "metadata": {},
     "output_type": "display_data"
    }
   ],
   "source": [
    "import matplotlib.pyplot as plt\n",
    "import matplotlib.ticker as ticker\n",
    "import seaborn as sns\n",
    "sns.set_style('white')\n",
    "xvalues = range(len(history))\n",
    "yvalues = [i.accuracy for i in history]\n",
    "ax = plt.gca()\n",
    "ax.scatter(\n",
    "    xvalues, yvalues, marker='.', facecolor=(0.0, 0.0, 0.0),\n",
    "    edgecolor=(0.0, 0.0, 0.0), linewidth=1, s=1)\n",
    "ax.xaxis.set_major_locator(ticker.LinearLocator(numticks=2))\n",
    "ax.xaxis.set_major_formatter(ticker.ScalarFormatter())\n",
    "ax.yaxis.set_major_locator(ticker.LinearLocator(numticks=2))\n",
    "ax.yaxis.set_major_formatter(ticker.ScalarFormatter())\n",
    "fig = plt.gcf()\n",
    "fig.set_size_inches(8, 6)\n",
    "fig.tight_layout()\n",
    "ax.tick_params(\n",
    "    axis='x', which='both', bottom='on', top='off', labelbottom='on',\n",
    "    labeltop='off', labelsize=14, pad=10)\n",
    "ax.tick_params(\n",
    "    axis='y', which='both', left='on', right='off', labelleft='on',\n",
    "    labelright='off', labelsize=14, pad=5)\n",
    "plt.xlabel('Number of Models Evaluated', labelpad=-16, fontsize=16)\n",
    "plt.ylabel('Accuracy', labelpad=-30, fontsize=16)\n",
    "plt.xlim(0, 1000)\n",
    "sns.despine()"
   ]
<<<<<<< HEAD
  },
  {
   "cell_type": "code",
   "execution_count": null,
   "metadata": {
    "colab": {},
    "colab_type": "code",
    "id": "nWvlb_hnJt7U"
   },
   "outputs": [],
   "source": []
  },
  {
   "cell_type": "code",
   "execution_count": null,
   "metadata": {},
   "outputs": [],
   "source": []
  },
  {
   "cell_type": "code",
   "execution_count": null,
   "metadata": {},
   "outputs": [],
   "source": []
  },
  {
   "cell_type": "code",
   "execution_count": null,
   "metadata": {},
   "outputs": [],
   "source": []
=======
>>>>>>> cd5322911244ad452f7320e1358356f07d9d8674
  }
 ],
 "metadata": {
  "colab": {
   "collapsed_sections": [],
   "include_colab_link": true,
   "name": "regularized_evolution_algorithm.ipynb",
   "provenance": [],
   "version": "0.3.2"
  },
  "kernelspec": {
<<<<<<< HEAD
   "display_name": "Python 2",
   "language": "python",
   "name": "python2"
=======
   "display_name": "Python 3",
   "language": "python",
   "name": "python3"
>>>>>>> cd5322911244ad452f7320e1358356f07d9d8674
  },
  "language_info": {
   "codemirror_mode": {
    "name": "ipython",
<<<<<<< HEAD
    "version": 2
=======
    "version": 3
>>>>>>> cd5322911244ad452f7320e1358356f07d9d8674
   },
   "file_extension": ".py",
   "mimetype": "text/x-python",
   "name": "python",
   "nbconvert_exporter": "python",
<<<<<<< HEAD
   "pygments_lexer": "ipython2",
   "version": "2.7.15rc1"
=======
   "pygments_lexer": "ipython3",
   "version": "3.7.0"
>>>>>>> cd5322911244ad452f7320e1358356f07d9d8674
  }
 },
 "nbformat": 4,
 "nbformat_minor": 1
}
